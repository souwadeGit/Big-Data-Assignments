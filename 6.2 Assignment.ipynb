{
 "cells": [
  {
   "cell_type": "markdown",
   "metadata": {},
   "source": [
    "### Week6: Computer Vision\n",
    "\n",
    "### 6.2 Assignment\n",
    "\n",
    "a.\n",
    "\n",
    "Using section 5.2 in Deep Learning with Python as a guide, create a ConvNet model that classifies images CIFAR10 small images classification dataset. Do not use dropout or data-augmentation in this part. Save the model, predictions, metrics, and validation plots in the dsc650/assignments/assignment06/results directory.\n",
    "\n",
    "b.\n",
    "\n",
    "Using section 5.2 in Deep Learning with Python as a guide, create a ConvNet model that classifies images CIFAR10 small images classification dataset. This time includes dropout and data-augmentation. Save the model, predictions, metrics, and validation plots in the dsc650/assignments/assignment06/results directory.\n",
    "\n",
    "https://bellevue-university.github.io/dsc650/lessons/12-week/week06/"
   ]
  },
  {
   "cell_type": "code",
   "execution_count": 110,
   "metadata": {},
   "outputs": [
    {
     "data": {
      "text/plain": [
       "'2.4.3'"
      ]
     },
     "execution_count": 110,
     "metadata": {},
     "output_type": "execute_result"
    }
   ],
   "source": [
    "import keras\n",
    "keras.__version__"
   ]
  },
  {
   "cell_type": "code",
   "execution_count": 111,
   "metadata": {},
   "outputs": [],
   "source": [
    "import os, shutil"
   ]
  },
  {
   "cell_type": "code",
   "execution_count": 113,
   "metadata": {},
   "outputs": [
    {
     "name": "stdout",
     "output_type": "stream",
     "text": [
      "<class 'numpy.ndarray'>\n"
     ]
    }
   ],
   "source": [
    "from keras import models, layers\n",
    "import tensorflow as tf\n",
    "(trainx, trainy), (testx, testy) = tf.keras.datasets.cifar10.load_data()\n",
    "print(type(trainx))"
   ]
  },
  {
   "cell_type": "markdown",
   "metadata": {},
   "source": [
    "As a sanity check, let's count how many pictures we have in each training split (train/validation/test):"
   ]
  },
  {
   "cell_type": "markdown",
   "metadata": {},
   "source": [
    "So we have indeed 2000 training images, and then 1000 validation images and 1000 test images. In each split, there is the same number of samples from each class: this is a balanced binary classification problem, which means that classification accuracy will be an appropriate measure of success.\n",
    "### Building our network\n",
    "\n",
    "We've already built a small convnet for MNIST in the previous example, so you should be familiar with them. We will reuse the same general structure: our convnet will be a stack of alternated Conv2D (with relu activation) and MaxPooling2D layers.\n",
    "\n",
    "However, since we are dealing with bigger images and a more complex problem, we will make our network accordingly larger: it will have one more Conv2D + MaxPooling2D stage. This serves both to augment the capacity of the network, and to further reduce the size of the feature maps, so that they aren't overly large when we reach the Flatten layer. Here, since we start from inputs of size 150x150 (a somewhat arbitrary choice), we end up with feature maps of size 7x7 right before the Flatten layer.\n",
    "\n",
    "Note that the depth of the feature maps is progressively increasing in the network (from 32 to 128), while the size of the feature maps is decreasing (from 148x148 to 7x7). This is a pattern that you will see in almost all convnets.\n",
    "\n",
    "Since we are attacking a binary classification problem, we are ending the network with a single unit (a Dense layer of size 1) and a sigmoid activation. This unit will encode the probability that the network is looking at one class or the other.\n"
   ]
  },
  {
   "cell_type": "markdown",
   "metadata": {},
   "source": [
    "https://github.com/fchollet/deep-learning-with-python-notebooks/issues/16"
   ]
  },
  {
   "cell_type": "code",
   "execution_count": 114,
   "metadata": {},
   "outputs": [],
   "source": [
    "from keras import layers\n",
    "from keras import models\n",
    "\n",
    "model = models.Sequential()\n",
    "model.add(layers.Conv2D(32, (3, 3), activation='relu',\n",
    "                        input_shape=(32, 32, 3)))\n",
    "model.add(layers.MaxPooling2D((2, 2)))\n",
    "model.add(layers.Conv2D(64, (3, 3), activation='relu'))\n",
    "model.add(layers.MaxPooling2D((2, 2)))\n",
    "model.add(layers.Conv2D(128, (3, 3), activation='relu'))\n",
    "#model.add(layers.MaxPooling2D((2, 2)))\n",
    "#model.add(layers.Conv2D(128, (3, 3), activation='relu'))\n",
    "model.add(layers.MaxPooling2D((2, 2)))\n",
    "model.add(layers.Flatten())\n",
    "model.add(layers.Dense(512, activation='relu'))\n",
    "model.add(layers.Dense(10, activation='sigmoid'))"
   ]
  },
  {
   "cell_type": "code",
   "execution_count": 115,
   "metadata": {},
   "outputs": [],
   "source": [
    "from keras import optimizers\n",
    "\n",
    "model.compile(loss='categorical_crossentropy',\n",
    "              optimizer=optimizers.RMSprop(lr=1e-4),\n",
    "              metrics=['acc'])"
   ]
  },
  {
   "cell_type": "code",
   "execution_count": 116,
   "metadata": {},
   "outputs": [],
   "source": [
    "from keras.preprocessing.image import ImageDataGenerator\n",
    "\n",
    "# All images will be rescaled by 1./255\n",
    "train_datagen = ImageDataGenerator(rescale=1./255)\n",
    "test_datagen = ImageDataGenerator(rescale=1./255)\n",
    "\n",
    "train_generator = train_datagen.flow(\n",
    "        # This is the target directory\n",
    "        trainx,\n",
    "        trainy,\n",
    "        batch_size=20)\n",
    "\n",
    "validation_generator = test_datagen.flow(\n",
    "        # This is the target directory\n",
    "        testx,\n",
    "        testy,\n",
    "        batch_size=20)"
   ]
  },
  {
   "cell_type": "code",
   "execution_count": 117,
   "metadata": {},
   "outputs": [
    {
     "name": "stdout",
     "output_type": "stream",
     "text": [
      "data batch shape: (20, 32, 32, 3)\n",
      "labels batch shape: (20, 1)\n"
     ]
    }
   ],
   "source": [
    "for data_batch, labels_batch in train_generator:\n",
    "    print('data batch shape:', data_batch.shape)\n",
    "    print('labels batch shape:', labels_batch.shape)\n",
    "    break"
   ]
  },
  {
   "cell_type": "code",
   "execution_count": 118,
   "metadata": {},
   "outputs": [
    {
     "name": "stdout",
     "output_type": "stream",
     "text": [
      "Epoch 1/30\n",
      "100/100 [==============================] - 2s 17ms/step - loss: 103.2029 - acc: 0.0760 - val_loss: 107.0017 - val_acc: 0.0020\n",
      "Epoch 2/30\n",
      "100/100 [==============================] - 1s 14ms/step - loss: 106.4257 - acc: 0.0925 - val_loss: 103.0178 - val_acc: 0.3960\n",
      "Epoch 3/30\n",
      "100/100 [==============================] - 1s 14ms/step - loss: 103.5934 - acc: 0.0880 - val_loss: 105.8729 - val_acc: 0.0570\n",
      "Epoch 4/30\n",
      "100/100 [==============================] - 1s 14ms/step - loss: 104.6295 - acc: 0.0935 - val_loss: 104.6065 - val_acc: 0.0870\n",
      "Epoch 5/30\n",
      "100/100 [==============================] - 1s 14ms/step - loss: 105.7002 - acc: 0.0815 - val_loss: 104.4453 - val_acc: 0.0810\n",
      "Epoch 6/30\n",
      "100/100 [==============================] - 1s 14ms/step - loss: 102.6723 - acc: 0.0920 - val_loss: 106.2643 - val_acc: 0.0000e+00\n",
      "Epoch 7/30\n",
      "100/100 [==============================] - 1s 14ms/step - loss: 104.0768 - acc: 0.1330 - val_loss: 103.9156 - val_acc: 0.0080\n",
      "Epoch 8/30\n",
      "100/100 [==============================] - 1s 15ms/step - loss: 102.7183 - acc: 0.1215 - val_loss: 99.8401 - val_acc: 0.0000e+00\n",
      "Epoch 9/30\n",
      "100/100 [==============================] - 1s 14ms/step - loss: 103.4436 - acc: 0.0880 - val_loss: 103.9387 - val_acc: 0.0000e+00\n",
      "Epoch 10/30\n",
      "100/100 [==============================] - 1s 14ms/step - loss: 102.2118 - acc: 0.0715 - val_loss: 104.0308 - val_acc: 0.0000e+00\n",
      "Epoch 11/30\n",
      "100/100 [==============================] - 1s 14ms/step - loss: 101.3713 - acc: 0.0910 - val_loss: 104.7216 - val_acc: 0.0000e+00\n",
      "Epoch 12/30\n",
      "100/100 [==============================] - 1s 13ms/step - loss: 102.2233 - acc: 0.0905 - val_loss: 104.3762 - val_acc: 0.0000e+00\n",
      "Epoch 13/30\n",
      "100/100 [==============================] - 1s 14ms/step - loss: 102.9947 - acc: 0.1005 - val_loss: 107.2314 - val_acc: 0.9770\n",
      "Epoch 14/30\n",
      "100/100 [==============================] - 1s 14ms/step - loss: 105.1936 - acc: 0.1215 - val_loss: 104.5834 - val_acc: 0.0000e+00\n",
      "Epoch 15/30\n",
      "100/100 [==============================] - 1s 14ms/step - loss: 102.6723 - acc: 0.1190 - val_loss: 98.1362 - val_acc: 0.0030\n",
      "Epoch 16/30\n",
      "100/100 [==============================] - 1s 15ms/step - loss: 104.0883 - acc: 0.1385 - val_loss: 105.4123 - val_acc: 0.0000e+00\n",
      "Epoch 17/30\n",
      "100/100 [==============================] - 1s 15ms/step - loss: 104.4222 - acc: 0.1200 - val_loss: 101.7282 - val_acc: 0.0000e+00\n",
      "Epoch 18/30\n",
      "100/100 [==============================] - 1s 14ms/step - loss: 105.4584 - acc: 0.1110 - val_loss: 105.3202 - val_acc: 0.0000e+00\n",
      "Epoch 19/30\n",
      "100/100 [==============================] - 1s 14ms/step - loss: 102.7989 - acc: 0.1105 - val_loss: 104.5374 - val_acc: 0.0000e+00\n",
      "Epoch 20/30\n",
      "100/100 [==============================] - 1s 14ms/step - loss: 102.7298 - acc: 0.1300 - val_loss: 101.3828 - val_acc: 0.0010\n",
      "Epoch 21/30\n",
      "100/100 [==============================] - 1s 14ms/step - loss: 101.7742 - acc: 0.1300 - val_loss: 105.0900 - val_acc: 0.0000e+00\n",
      "Epoch 22/30\n",
      "100/100 [==============================] - 1s 15ms/step - loss: 104.0193 - acc: 0.1410 - val_loss: 104.8827 - val_acc: 0.0010\n",
      "Epoch 23/30\n",
      "100/100 [==============================] - 1s 14ms/step - loss: 104.0308 - acc: 0.1080 - val_loss: 102.4881 - val_acc: 0.0010\n",
      "Epoch 24/30\n",
      "100/100 [==============================] - 1s 14ms/step - loss: 102.7528 - acc: 0.0985 - val_loss: 107.8301 - val_acc: 0.9960\n",
      "Epoch 25/30\n",
      "100/100 [==============================] - 1s 13ms/step - loss: 104.6755 - acc: 0.1885 - val_loss: 104.7216 - val_acc: 0.0010\n",
      "Epoch 26/30\n",
      "100/100 [==============================] - 1s 15ms/step - loss: 104.1114 - acc: 0.1395 - val_loss: 100.7842 - val_acc: 0.0030\n",
      "Epoch 27/30\n",
      "100/100 [==============================] - 1s 14ms/step - loss: 106.3219 - acc: 0.1295 - val_loss: 101.4059 - val_acc: 0.0000e+00\n",
      "Epoch 28/30\n",
      "100/100 [==============================] - 1s 14ms/step - loss: 103.9272 - acc: 0.0895 - val_loss: 102.2808 - val_acc: 0.0000e+00\n",
      "Epoch 29/30\n",
      "100/100 [==============================] - 2s 19ms/step - loss: 103.4321 - acc: 0.1385 - val_loss: 103.1558 - val_acc: 0.0000e+00\n",
      "Epoch 30/30\n",
      "100/100 [==============================] - 1s 15ms/step - loss: 102.0391 - acc: 0.0800 - val_loss: 106.4946 - val_acc: 0.0010\n"
     ]
    }
   ],
   "source": [
    "history = model.fit_generator(\n",
    "      train_generator,\n",
    "      steps_per_epoch=100,\n",
    "      epochs=30,\n",
    "      validation_data=validation_generator,\n",
    "      validation_steps=50)"
   ]
  },
  {
   "cell_type": "markdown",
   "metadata": {},
   "source": [
    "It is good practice to always save your models after training:"
   ]
  },
  {
   "cell_type": "code",
   "execution_count": 119,
   "metadata": {},
   "outputs": [],
   "source": [
    "model.save('things-10.h5')"
   ]
  },
  {
   "cell_type": "code",
   "execution_count": 120,
   "metadata": {},
   "outputs": [
    {
     "data": {
      "image/png": "[encoded data removed]",
      "text/plain": [
       "<Figure size 432x288 with 1 Axes>"
      ]
     },
     "metadata": {
      "needs_background": "light"
     },
     "output_type": "display_data"
    },
    {
     "data": {
      "image/png": "[encoded data removed]",
      "text/plain": [
       "<Figure size 432x288 with 1 Axes>"
      ]
     },
     "metadata": {
      "needs_background": "light"
     },
     "output_type": "display_data"
    }
   ],
   "source": [
    "import matplotlib.pyplot as plt\n",
    "\n",
    "acc = history.history['acc']\n",
    "val_acc = history.history['val_acc']\n",
    "loss = history.history['loss']\n",
    "val_loss = history.history['val_loss']\n",
    "\n",
    "epochs = range(len(acc))\n",
    "\n",
    "plt.plot(epochs, acc, 'bo', label='Training acc')\n",
    "plt.plot(epochs, val_acc, 'b', label='Validation acc')\n",
    "plt.title('Training and validation accuracy')\n",
    "plt.legend()\n",
    "\n",
    "plt.figure()\n",
    "\n",
    "plt.plot(epochs, loss, 'bo', label='Training loss')\n",
    "plt.plot(epochs, val_loss, 'b', label='Validation loss')\n",
    "plt.title('Training and validation loss')\n",
    "plt.legend()\n",
    "\n",
    "plt.show()"
   ]
  },
  {
   "cell_type": "code",
   "execution_count": 129,
   "metadata": {},
   "outputs": [],
   "source": [
    "datagen = ImageDataGenerator(\n",
    "      rotation_range=40,\n",
    "      width_shift_range=0.2,\n",
    "      height_shift_range=0.2,\n",
    "      shear_range=0.2,\n",
    "      zoom_range=0.2,\n",
    "      horizontal_flip=True,\n",
    "      fill_mode='nearest')\n",
    "\n"
   ]
  },
  {
   "cell_type": "code",
   "execution_count": null,
   "metadata": {},
   "outputs": [],
   "source": []
  }
 ],
 "metadata": {
  "kernelspec": {
   "display_name": "Python 3",
   "language": "python",
   "name": "python3"
  },
  "language_info": {
   "codemirror_mode": {
    "name": "ipython",
    "version": 3
   },
   "file_extension": ".py",
   "mimetype": "text/x-python",
   "name": "python",
   "nbconvert_exporter": "python",
   "pygments_lexer": "ipython3",
   "version": "3.8.3"
  }
 },
 "nbformat": 4,
 "nbformat_minor": 4
}
