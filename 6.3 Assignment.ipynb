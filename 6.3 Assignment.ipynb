{
 "cells": [
  {
   "cell_type": "markdown",
   "metadata": {},
   "source": [
    "### Week6: Computer Vision\n",
    "\n",
    "###  6.3 Assignment\n",
    "\n",
    "Load the ResNet50 model and classify the images found in the data/raw/images directory. Save the predictions dsc650/assignments/assignment06/results/predictions/resnet50 directory."
   ]
  },
  {
   "cell_type": "markdown",
   "metadata": {},
   "source": [
    "# Usage examples for image classification models\n",
    "### Classify ImageNet classes with ResNet50\n",
    "https://keras.io/api/applications/#classify-imagenet-classes-with-resnet50"
   ]
  },
  {
   "cell_type": "code",
   "execution_count": 1,
   "metadata": {},
   "outputs": [
    {
     "name": "stdout",
     "output_type": "stream",
     "text": [
      "Predicted: [('n02504458', 'African_elephant', 0.7787162), ('n01871265', 'tusker', 0.12713987), ('n02504013', 'Indian_elephant', 0.09208985)]\n",
      "Predicted: [('n02113799', 'standard_poodle', 0.7399097), ('n02093647', 'Bedlington_terrier', 0.1224053), ('n02088094', 'Afghan_hound', 0.06499452)]\n",
      "Predicted: [('n02487347', 'macaque', 0.90523654), ('n02486261', 'patas', 0.054982003), ('n02484975', 'guenon', 0.014403992)]\n",
      "Predicted: [('n04081281', 'restaurant', 0.50078684), ('n03661043', 'library', 0.40669793), ('n02871525', 'bookshop', 0.014488094)]\n",
      "Predicted: [('n02403003', 'ox', 0.7208774), ('n03868242', 'oxcart', 0.22500475), ('n04604644', 'worm_fence', 0.009863633)]\n",
      "Predicted: [('n02859443', 'boathouse', 0.3012838), ('n09332890', 'lakeside', 0.26672164), ('n03930313', 'picket_fence', 0.1399544)]\n",
      "['African_elephant-0.7787162065505981', 'standard_poodle-0.7399097084999084', 'macaque-0.905236542224884', 'restaurant-0.5007868409156799', 'ox-0.7208774089813232', 'boathouse-0.3012838065624237']\n"
     ]
    }
   ],
   "source": [
    "from tensorflow.keras.applications.resnet50 import ResNet50\n",
    "from tensorflow.keras.preprocessing import image\n",
    "from tensorflow.keras.applications.resnet50 import preprocess_input, decode_predictions\n",
    "import numpy as np\n",
    "\n",
    "model = ResNet50(weights='imagenet')\n",
    "\n",
    "img1_path = 'images/elephant.jpg'\n",
    "img2_path = 'images/dog.jpeg'\n",
    "img3_path = 'images/monkey.jpg'\n",
    "img4_path = 'images/classroom.jpg'\n",
    "img5_path = 'images/cow.jpeg'\n",
    "img6_path = 'images/house.jpeg'\n",
    "\n",
    "img1 = image.load_img(img1_path, target_size=(224, 224))\n",
    "img2 = image.load_img(img2_path, target_size=(224, 224))\n",
    "img3 = image.load_img(img3_path, target_size=(224, 224))\n",
    "img4 = image.load_img(img4_path, target_size=(224, 224))\n",
    "img5 = image.load_img(img5_path, target_size=(224, 224))\n",
    "img6 = image.load_img(img6_path, target_size=(224, 224))\n",
    "\n",
    "images = [ img1, img2, img3, img4, img5, img6]\n",
    "\n",
    "results = []\n",
    "\n",
    "for img in images:\n",
    "\n",
    "    x = image.img_to_array(img)\n",
    "    x = np.expand_dims(x, axis=0)\n",
    "    x = preprocess_input(x)\n",
    "\n",
    "    preds = model.predict(x, verbose=0)\n",
    "    print('Predicted:', decode_predictions(preds, top=3)[0])\n",
    "    results.append(f'{decode_predictions(preds, top=3)[0][0][1]}-{decode_predictions(preds, top=3)[0][0][2]}')\n",
    "    \n",
    "# decode the results into a list of tuples (class, description, probability)\n",
    "# (one such list for each sample in the batch)\n",
    "#print('Predicted:', decode_predictions(preds, top=3)[0])\n",
    "print(results)\n",
    "np.savetxt(\"results/predictions/resnet50/score.csv\",  results, delimiter=\",\", fmt=\"%s\")\n",
    "# Predicted: [(u'n02504013', u'Indian_elephant', 0.82658225), (u'n01871265', u'tusker', 0.1122357), (u'n02504458', u'African_elephant', 0.061040461)]\n"
   ]
  },
  {
   "cell_type": "code",
   "execution_count": null,
   "metadata": {},
   "outputs": [],
   "source": []
  },
  {
   "cell_type": "code",
   "execution_count": null,
   "metadata": {},
   "outputs": [],
   "source": []
  }
 ],
 "metadata": {
  "kernelspec": {
   "display_name": "Python 3",
   "language": "python",
   "name": "python3"
  },
  "language_info": {
   "codemirror_mode": {
    "name": "ipython",
    "version": 3
   },
   "file_extension": ".py",
   "mimetype": "text/x-python",
   "name": "python",
   "nbconvert_exporter": "python",
   "pygments_lexer": "ipython3",
   "version": "3.8.3"
  }
 },
 "nbformat": 4,
 "nbformat_minor": 4
}
